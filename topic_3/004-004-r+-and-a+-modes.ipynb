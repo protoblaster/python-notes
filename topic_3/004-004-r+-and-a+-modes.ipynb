{
 "cells": [
  {
   "cell_type": "code",
   "execution_count": 9,
   "metadata": {},
   "outputs": [
    {
     "name": "stdout",
     "output_type": "stream",
     "text": [
      "76\n"
     ]
    }
   ],
   "source": [
    "# open the file and find out where the cursor is within the file\n",
    "file = open('data_file/003-example.txt', 'a')\n",
    "print(file.tell())"
   ]
  },
  {
   "cell_type": "code",
   "execution_count": 10,
   "metadata": {},
   "outputs": [
    {
     "data": {
      "text/plain": [
       "76"
      ]
     },
     "execution_count": 10,
     "metadata": {},
     "output_type": "execute_result"
    }
   ],
   "source": [
    "# we import the OS module and use .st_size to find the size of the file\n",
    "import os\n",
    "os.stat('data_file/003-example.txt').st_size"
   ]
  },
  {
   "cell_type": "code",
   "execution_count": 12,
   "metadata": {},
   "outputs": [
    {
     "name": "stdout",
     "output_type": "stream",
     "text": [
      "37\n"
     ]
    }
   ],
   "source": [
    "# the truncate function allows us to make the file be no more than n amount of bytes\n",
    "# the truncate function cannot be used when the file is in read-only mode\n",
    "print(file.truncate(37))"
   ]
  },
  {
   "cell_type": "code",
   "execution_count": null,
   "metadata": {},
   "outputs": [],
   "source": [
    "# this line closes the file\n",
    "file.close()"
   ]
  },
  {
   "cell_type": "code",
   "execution_count": 13,
   "metadata": {},
   "outputs": [
    {
     "data": {
      "text/plain": [
       "'Hello Everyone\\nWelcome to skillsoft\\nT'"
      ]
     },
     "execution_count": 13,
     "metadata": {},
     "output_type": "execute_result"
    }
   ],
   "source": [
    "f = open('data_file/003-example.txt', 'r')\n",
    "f.read()    # this prints the entire contents of the file"
   ]
  },
  {
   "cell_type": "code",
   "execution_count": 14,
   "metadata": {},
   "outputs": [],
   "source": [
    "f.close()"
   ]
  },
  {
   "cell_type": "code",
   "execution_count": 17,
   "metadata": {},
   "outputs": [
    {
     "name": "stdout",
     "output_type": "stream",
     "text": [
      "0\n"
     ]
    }
   ],
   "source": [
    "# r+ mode is available for reading and writing but the cursor will point to the beginning \n",
    "# of the file \n",
    "# we can verify this by using the tell() method\n",
    "f = open('data_file/003-example.txt', 'r+')\n",
    "file.writelines(\"We are doing an 'r+' operation\")\n",
    "print(f.tell())\n",
    "f.close()"
   ]
  },
  {
   "cell_type": "code",
   "execution_count": 18,
   "metadata": {},
   "outputs": [],
   "source": [
    "# opening the file in a+ mode opens the file in append mode\n",
    "# but the cursor is at the end of the file\n",
    "f = open('data_file/003-example.txt', 'a+')\n",
    "f.writelines(\"What does writing in a+ mode\")\n",
    "f.close()"
   ]
  },
  {
   "cell_type": "code",
   "execution_count": null,
   "metadata": {},
   "outputs": [],
   "source": [
    "# the difference between opening a file in a+ and r+ is the location of the cursor\n",
    "# ---- r+ --> the cursor is at the beginning of the file\n",
    "# ---- a+ --> the cursor is at the end of the file"
   ]
  },
  {
   "cell_type": "code",
   "execution_count": 19,
   "metadata": {},
   "outputs": [],
   "source": [
    "#renaming an existing file\n",
    "import os\n",
    "\n",
    "os.rename('data_file/003-example.txt', 'data_file/003-example-renamed.txt')"
   ]
  },
  {
   "cell_type": "code",
   "execution_count": 20,
   "metadata": {},
   "outputs": [],
   "source": [
    "# deletev an existing file \n",
    "import os\n",
    "\n",
    "os.remove('data_file/003-example-renamed.txt')"
   ]
  }
 ],
 "metadata": {
  "kernelspec": {
   "display_name": "Python 3",
   "language": "python",
   "name": "python3"
  },
  "language_info": {
   "codemirror_mode": {
    "name": "ipython",
    "version": 3
   },
   "file_extension": ".py",
   "mimetype": "text/x-python",
   "name": "python",
   "nbconvert_exporter": "python",
   "pygments_lexer": "ipython3",
   "version": "3.10.9"
  },
  "orig_nbformat": 4,
  "vscode": {
   "interpreter": {
    "hash": "e7370f93d1d0cde622a1f8e1c04877d8463912d04d973331ad4851f04de6915a"
   }
  }
 },
 "nbformat": 4,
 "nbformat_minor": 2
}
